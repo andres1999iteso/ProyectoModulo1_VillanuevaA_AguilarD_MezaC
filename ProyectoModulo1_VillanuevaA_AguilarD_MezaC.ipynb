{
 "cells": [
  {
   "cell_type": "markdown",
   "metadata": {},
   "source": [
    "# Problema para optimizar utilidades de empresa de autobuses\n",
    "\n",
    "###### Andrés Ramírez Villanueva  IF726061\n",
    "###### Daniela Aguilar Castaño IF725146\n",
    "###### Claudia Estefania Meza Fonseca IF729930\n"
   ]
  },
  {
   "cell_type": "markdown",
   "metadata": {},
   "source": [
    "# Objetivos\n",
    "\n",
    "### General:\n",
    "\n",
    "\n",
    "Optimizar las utilidades de la empresa de autobuses a través de la oferta de asientos. Esto con la ayuda de las técnicas aprendidas en clase.\n",
    "\n",
    "\n",
    "### Específico:\n",
    "\n",
    "\n",
    "Lograr en base a los tipos de pasajeros, precios y kilogramos conseguir que la empresa de autobuses obtenga el máximo beneficio en la venta de asientos.\n"
   ]
  },
  {
   "cell_type": "markdown",
   "metadata": {},
   "source": [
    "# Planteamiento\n",
    "Un bus que hace un recorrido ofrece asientos para fumadores al precio de 10,000 y a no fumadores al precio de 6,000. A los no fumadores se les deja llevar 50 Kg de peso y a los fumadores 20 kg. Si el bus tiene 90 asientos y admite equipos de hasta 3000 kg, ¿Cuál es la oferta de asientos de la compañía para cada tipo de pasajero con la finalidad de optimizar su beneficio?\n",
    "Además debe considerarse por políticas de la empresa que deben ofrecerse como mínimo 10 asientos para NO fumadores."
   ]
  },
  {
   "cell_type": "markdown",
   "metadata": {},
   "source": [
    "# Modelo que representa el problema.\n",
    "\n",
    "#### Variables a utilizar:\n",
    "\n",
    "x = Fumadores\n",
    "\n",
    "y = No fumadores\n",
    "\n",
    "###### NOTA: Dado que el algoritmo que maneja linprog nos pide que la función objetivo y las restricciones estén planteadas a manera de minimizar (lo cual no se busca, sino maximizar), se  harán cambios en los signos de estos que sean necesarios.\n",
    "\n",
    "#### Función objetivo: \n",
    "\n",
    "10,000x + 6,000y          //      -10,000x - 6,000y\n",
    "\n",
    "#### Restricciones:\n",
    "\n",
    "x + y ≤ 90\n",
    " \n",
    "50 y + 20 x ≤ 3000\n",
    "\n",
    "y ≥ 10                 \n",
    "###### -y ≤ -10 (Restricción a tomar en cuenta)\n",
    "\n",
    "\n",
    "\n",
    "x ≥ 0                  \n",
    "###### - x ≤ 0  (Restricción a tomar en cuenta)\n",
    "\n",
    "Con los datos de la función objetivo y las restricciones se contruyen 3 matrices para lograr obtener el resultado, estas serán:\n",
    "\n",
    "Matriz A: Para las variables de las restricciones.\n",
    "\n",
    "- $\\boldsymbol{A}=\\left[\\begin{array}{cc}1 & 1 \\\\ 20 & 50\\\\ 0 & -1\\\\ -1 & 0\\end{array}\\right]$\n",
    "\n",
    "\n",
    "Matriz B: Limitantes de las resricciones.\n",
    "\n",
    "- $\\boldsymbol{B}=\\left[\\begin{array}{cc}90\\\\ 3000\\\\ -10\\\\ 0\\end{array}\\right]$\n",
    "\n",
    "Vector C: Las constantes que acompañan a las variables en la función objetivo.\n",
    "\n",
    "- $\\boldsymbol{C}=\\left[\\begin{array}{cc}-10000 & -6000\\end{array}\\right]$\n",
    "\n",
    "\n",
    "Una vez mencionado todo lo anterior procederemos al código.\n"
   ]
  },
  {
   "cell_type": "markdown",
   "metadata": {},
   "source": [
    "# Solución del problema de optimización."
   ]
  },
  {
   "cell_type": "code",
   "execution_count": 1,
   "metadata": {},
   "outputs": [],
   "source": [
    "# Importar numpy para crear las matrices\n",
    "import scipy.optimize as opt\n",
    "import numpy as np"
   ]
  },
  {
   "cell_type": "code",
   "execution_count": 2,
   "metadata": {},
   "outputs": [],
   "source": [
    "# Crear las matrices para resolver el problema\n",
    "\n",
    "A=np.array([[1,1],[20,50],[0,-1],[-1,0]])\n",
    "B=np.array([90,3000,-10,0])\n",
    "C=np.array([-10000,-6000])\n",
    "\n",
    "# Resolver utilizando linprog\n",
    "sol=opt.linprog(C,A,B)\n"
   ]
  },
  {
   "cell_type": "code",
   "execution_count": 3,
   "metadata": {},
   "outputs": [
    {
     "data": {
      "text/plain": [
       "array([79.99999998, 10.        ])"
      ]
     },
     "execution_count": 3,
     "metadata": {},
     "output_type": "execute_result"
    }
   ],
   "source": [
    "# Extraer el vector solución\n",
    "(sol.x)"
   ]
  },
  {
   "cell_type": "code",
   "execution_count": 4,
   "metadata": {},
   "outputs": [
    {
     "data": {
      "text/plain": [
       "859999.999798168"
      ]
     },
     "execution_count": 4,
     "metadata": {},
     "output_type": "execute_result"
    }
   ],
   "source": [
    "sol.fun*(-1)   #Solución evaluada en la función objetivo"
   ]
  },
  {
   "cell_type": "markdown",
   "metadata": {},
   "source": [
    "# Visualización de la solución dle problema."
   ]
  },
  {
   "cell_type": "code",
   "execution_count": 2,
   "metadata": {},
   "outputs": [
    {
     "data": {
      "text/plain": [
       "[<matplotlib.lines.Line2D at 0x1c6b4cac748>]"
      ]
     },
     "execution_count": 2,
     "metadata": {},
     "output_type": "execute_result"
    },
    {
     "data": {
      "image/png": "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\n",
      "text/plain": [
       "<Figure size 432x288 with 1 Axes>"
      ]
     },
     "metadata": {
      "needs_background": "light"
     },
     "output_type": "display_data"
    }
   ],
   "source": [
    "# Importat numpy y matplotlib.pyplot\n",
    "import numpy as np\n",
    "import matplotlib.pyplot as plt\n",
    "\n",
    "%matplotlib inline\n",
    "\n",
    "# Definir funciones de restricción y de costo en función de xB\n",
    "def r1(x):\n",
    "    return 10 + 0*x\n",
    "\n",
    "def r2(x):\n",
    "    return 90 - x\n",
    "\n",
    "def r3(x):\n",
    "    return (3000-20*x)/50\n",
    "\n",
    "def r4(x):\n",
    "    return x*999999\n",
    "\n",
    "# Graficar\n",
    "x=np.linspace(-10,400,1000)\n",
    "plt.plot(x,r1(x),label='r1')     #Se etiqueta cada restricción\n",
    "plt.plot(x,r2(x),label='r2')\n",
    "plt.plot(x,r3(x),label='r3')\n",
    "plt.plot(x,r4(x),label='r4')\n",
    "plt.legend(loc='best') #Comando para mostrar el cuadro de etiquetas\n",
    "plt.xlabel('$x$')    #Se etiqueta el eje 'x' como xB\n",
    "plt.ylabel('$y$')\n",
    "plt.axis([-10,130,5,45])   #Se recortan los ejes\n",
    "plt.grid()\n",
    "plt.plot(80,10,'r*',ms=20)"
   ]
  },
  {
   "cell_type": "markdown",
   "metadata": {},
   "source": [
    "Dado lo anterior sabemos que se deben vender 80 asientos para fumadores y 10 para los NO fumadores"
   ]
  },
  {
   "cell_type": "markdown",
   "metadata": {},
   "source": [
    "# Conclusión\n",
    "\n",
    "Por medio del análisis previo en el cual se planteó el problema y por medio de programación lineal se logró llevar a cabo el problema, se construyeron dos matrices y un vector los cuales contienen información como las condiciones que presentan las restricciones y la función objetivo.\n",
    "\n",
    "Gracias a la libreria de linprog no fue necesario llevar un desarrollo gráfico que además de ser más largo no es tan preciso como el que se llevó a cabo en este trabajo.\n",
    "\n",
    "Algo que es importante mencionar y que se aprendió durante clase al practicar en clase es que en caso de necesitar igualdades dentro de las restricciones estas no se colocan dentro de la matriz donde están las demás, se deben generar otras dos que a su vez se anexan a la parte del código donde se ejecuta la función de linprog."
   ]
  },
  {
   "cell_type": "markdown",
   "metadata": {},
   "source": [
    "#### Link de presentación: https://docs.google.com/presentation/d/1FupI88-b9qiF4vlKHJoFVhNlNgw6IfwiPnTURQJLkqA/edit?ts=5e556087#slide=id.g7ea86e9a61_0_408"
   ]
  }
 ],
 "metadata": {
  "kernelspec": {
   "display_name": "Python 3",
   "language": "python",
   "name": "python3"
  },
  "language_info": {
   "codemirror_mode": {
    "name": "ipython",
    "version": 3
   },
   "file_extension": ".py",
   "mimetype": "text/x-python",
   "name": "python",
   "nbconvert_exporter": "python",
   "pygments_lexer": "ipython3",
   "version": "3.7.4"
  }
 },
 "nbformat": 4,
 "nbformat_minor": 2
}

#mod1
